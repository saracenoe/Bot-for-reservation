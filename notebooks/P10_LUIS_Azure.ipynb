{
 "cells": [
  {
   "cell_type": "markdown",
   "id": "6dd6a715-2b2a-40bf-8a5e-84a2b69626af",
   "metadata": {},
   "source": [
    "# <font color=red><center>**FLY ME - LUIS Model**</center></font>\n",
    "\n",
    "# <font color=red><center>**chatbot to help users choose a travel offer.**</font>\n",
    "# "
   ]
  },
  {
   "cell_type": "markdown",
   "id": "c2f90a9e-5b05-43cc-b367-69755759d4c6",
   "metadata": {},
   "source": [
    "In this notebook, we :\n",
    "\n",
    "* create an Azure LUIS resource\n",
    "* add the intents and entities\n",
    "* format the data to be compatible with LUIS\n",
    "* add the examples\n",
    "* run a LUIS model training"
   ]
  },
  {
   "cell_type": "markdown",
   "id": "47edb75a-60b1-4b68-82a9-fa27a6c13867",
   "metadata": {},
   "source": [
    "### Source to create LUIS API\n",
    "\n",
    "https://learn.microsoft.com/en-us/azure/cognitive-services/luis/client-libraries-rest-api?tabs=windows&pivots=programming-language-python"
   ]
  },
  {
   "cell_type": "markdown",
   "id": "671d5eb1-4b80-40c1-87d0-7dde06a1bf6a",
   "metadata": {},
   "source": [
    "## Import and configure libraries"
   ]
  },
  {
   "cell_type": "code",
   "execution_count": 4,
   "id": "b4a24366-2a8f-415a-b898-09124de447f7",
   "metadata": {},
   "outputs": [],
   "source": [
    "import os\n",
    "import time\n",
    "import warnings\n",
    "from pathlib import Path\n",
    "import json\n",
    "\n",
    "import pandas as pd\n",
    "from azure.cognitiveservices.language.luis.authoring import LUISAuthoringClient\n",
    "from azure.cognitiveservices.language.luis.authoring.models import (\n",
    "    ApplicationCreateObject,\n",
    "    ExampleLabelObject,\n",
    "    EntityLabelObject,\n",
    ")\n",
    "from dotenv import load_dotenv\n",
    "from msrest.authentication import CognitiveServicesCredentials\n",
    "from tqdm.notebook import tqdm_notebook as tqdm\n",
    "\n",
    "warnings.filterwarnings(\"ignore\", category=UserWarning)\n",
    "warnings.filterwarnings(\"ignore\", category=FutureWarning)\n",
    "\n",
    "load_dotenv(override=True)\n",
    "\n",
    "AZURE_LUIS_ENDPOINT = os.getenv(\"AZURE_LUIS_ENDPOINT\")\n",
    "AZURE_LUIS_KEY = os.getenv(\"AZURE_LUIS_KEY\")\n",
    "\n",
    "AZURE_LUIS_PROJECT_NAME = \"es3-luis-model\"\n",
    "AZURE_LUIS_PROJECT_VERSION = \"0.1\"\n",
    "\n",
    "DATA_PATH = Path(\"../data\")\n",
    "FRAMES_JSON_PATH = Path(DATA_PATH, \"raw/frames.json\")"
   ]
  },
  {
   "cell_type": "markdown",
   "id": "8d3e56c6-8464-498e-a7cc-20ada367577c",
   "metadata": {},
   "source": [
    "## Create the LUIS Application"
   ]
  },
  {
   "cell_type": "code",
   "execution_count": 6,
   "id": "62987000-1e74-4ad9-a43a-d24d18562413",
   "metadata": {},
   "outputs": [
    {
     "name": "stdout",
     "output_type": "stream",
     "text": [
      "Created LUIS app with ID 099431fb-d90d-44b6-a5cf-82a9d8f804e7\n"
     ]
    }
   ],
   "source": [
    "# instanciate LUIS Authoring Client\n",
    "client = LUISAuthoringClient(\n",
    "    AZURE_LUIS_ENDPOINT, CognitiveServicesCredentials(AZURE_LUIS_KEY)\n",
    ")\n",
    "\n",
    "# define app basics\n",
    "appDefinition = ApplicationCreateObject(\n",
    "    name=AZURE_LUIS_PROJECT_NAME,\n",
    "    initial_version_id=AZURE_LUIS_PROJECT_VERSION,\n",
    "    culture=\"en-us\",\n",
    ")\n",
    "\n",
    "# create app\n",
    "app_id = client.apps.add(appDefinition)\n",
    "\n",
    "# get app id - necessary for all other changes\n",
    "print(\"Created LUIS app with ID {}\".format(app_id))"
   ]
  },
  {
   "cell_type": "markdown",
   "id": "759c33da-1ec9-4760-abe3-11ff3387ea65",
   "metadata": {},
   "source": [
    "## Add Intents"
   ]
  },
  {
   "cell_type": "code",
   "execution_count": 7,
   "id": "1e29bea1-fda2-484a-8ab3-f595aae4a47f",
   "metadata": {},
   "outputs": [],
   "source": [
    "book_id = client.model.add_intent(\n",
    "    app_id=app_id, version_id=AZURE_LUIS_PROJECT_VERSION, name=\"Book\"\n",
    ")\n",
    "info_id = client.model.add_intent(\n",
    "    app_id=app_id, version_id=AZURE_LUIS_PROJECT_VERSION, name=\"Info\"\n",
    ")\n"
   ]
  },
  {
   "cell_type": "markdown",
   "id": "9630ee07-fe29-4603-8b12-4612360348c5",
   "metadata": {},
   "source": [
    "## Add entities"
   ]
  },
  {
   "cell_type": "code",
   "execution_count": null,
   "id": "a6fa53ff",
   "metadata": {},
   "outputs": [],
   "source": [
    "# add Prebuilt entity\n",
    "client.model.add_prebuilt(\n",
    "    app_id=app_id,\n",
    "    version_id=AZURE_LUIS_PROJECT_VERSION,\n",
    "    prebuilt_extractor_names=[\"geographyV2\"],\n",
    ")\n",
    "client.model.add_prebuilt(\n",
    "    app_id=app_id,\n",
    "    version_id=AZURE_LUIS_PROJECT_VERSION,\n",
    "    prebuilt_extractor_names=[\"datetimeV2\"],\n",
    ")\n",
    "client.model.add_prebuilt(\n",
    "    app_id=app_id,\n",
    "    version_id=AZURE_LUIS_PROJECT_VERSION,\n",
    "    prebuilt_extractor_names=[\"number\"],\n",
    ")\n",
    "\n",
    "# add entity to app\n",
    "or_city_id = client.model.add_entity(\n",
    "    app_id=app_id, version_id=AZURE_LUIS_PROJECT_VERSION, name=\"or_city\"\n",
    ")\n",
    "client.features.add_entity_feature(\n",
    "    app_id=app_id,\n",
    "    version_id=AZURE_LUIS_PROJECT_VERSION,\n",
    "    entity_id=or_city_id,\n",
    "    feature_relation_create_object={\n",
    "        \"model_name\": \"geographyV2\",\n",
    "    },\n",
    ")\n",
    "dst_city_id = client.model.add_entity(\n",
    "    app_id=app_id, version_id=AZURE_LUIS_PROJECT_VERSION, name=\"dst_city\"\n",
    ")\n",
    "client.features.add_entity_feature(\n",
    "    app_id=app_id,\n",
    "    version_id=AZURE_LUIS_PROJECT_VERSION,\n",
    "    entity_id=dst_city_id,\n",
    "    feature_relation_create_object={\n",
    "        \"model_name\": \"geographyV2\",\n",
    "    },\n",
    ")\n",
    "str_date_id = client.model.add_entity(\n",
    "    app_id=app_id, version_id=AZURE_LUIS_PROJECT_VERSION, name=\"str_date\"\n",
    ")\n",
    "client.features.add_entity_feature(\n",
    "    app_id=app_id,\n",
    "    version_id=AZURE_LUIS_PROJECT_VERSION,\n",
    "    entity_id=str_date_id,\n",
    "    feature_relation_create_object={\n",
    "        \"model_name\": \"datetimeV2\",\n",
    "    },\n",
    ")\n",
    "end_date_id = client.model.add_entity(\n",
    "    app_id=app_id, version_id=AZURE_LUIS_PROJECT_VERSION, name=\"end_date\"\n",
    ")\n",
    "client.features.add_entity_feature(\n",
    "    app_id=app_id,\n",
    "    version_id=AZURE_LUIS_PROJECT_VERSION,\n",
    "    entity_id=end_date_id,\n",
    "    feature_relation_create_object={\n",
    "        \"model_name\": \"datetimeV2\",\n",
    "    },\n",
    ")\n",
    "budget_id = client.model.add_entity(\n",
    "    app_id=app_id, version_id=AZURE_LUIS_PROJECT_VERSION, name=\"budget\"\n",
    ")\n",
    "client.features.add_entity_feature(\n",
    "    app_id=app_id,\n",
    "    version_id=AZURE_LUIS_PROJECT_VERSION,\n",
    "    entity_id=budget_id,\n",
    "    feature_relation_create_object={\n",
    "        \"model_name\": \"number\",\n",
    "    },\n",
    ")"
   ]
  },
  {
   "cell_type": "markdown",
   "id": "2c81b17d-76a9-4e29-81d1-3d23d74ec80d",
   "metadata": {},
   "source": [
    "## Format data for LUIS"
   ]
  },
  {
   "cell_type": "code",
   "execution_count": 9,
   "id": "dd36dccb-e8b6-44a3-9149-c8f1845def84",
   "metadata": {},
   "outputs": [
    {
     "data": {
      "application/json": {
       "ascii": false,
       "bar_format": null,
       "colour": null,
       "elapsed": 0.02199268341064453,
       "initial": 0,
       "n": 0,
       "ncols": null,
       "nrows": 29,
       "postfix": null,
       "prefix": "",
       "rate": null,
       "total": 1369,
       "unit": "it",
       "unit_divisor": 1000,
       "unit_scale": false
      },
      "application/vnd.jupyter.widget-view+json": {
       "model_id": "d28ebafc58b64665b3daea0116f59758",
       "version_major": 2,
       "version_minor": 0
      },
      "text/plain": [
       "  0%|          | 0/1369 [00:00<?, ?it/s]"
      ]
     },
     "metadata": {},
     "output_type": "display_data"
    },
    {
     "data": {
      "application/json": {
       "ascii": false,
       "bar_format": null,
       "colour": null,
       "elapsed": 0.019002914428710938,
       "initial": 0,
       "n": 0,
       "ncols": null,
       "nrows": 29,
       "postfix": null,
       "prefix": "",
       "rate": null,
       "total": 97,
       "unit": "it",
       "unit_divisor": 1000,
       "unit_scale": false
      },
      "application/vnd.jupyter.widget-view+json": {
       "model_id": "33339fefe24c4de896b965a79df9634f",
       "version_major": 2,
       "version_minor": 0
      },
      "text/plain": [
       "  0%|          | 0/97 [00:00<?, ?it/s]"
      ]
     },
     "metadata": {},
     "output_type": "display_data"
    }
   ],
   "source": [
    "raw_data = pd.read_json(FRAMES_JSON_PATH)\n",
    "\n",
    "\n",
    "entities = [\"or_city\", \"dst_city\", \"str_date\", \"end_date\", \"budget\"]\n",
    "examples = []\n",
    "unique_utterances = []\n",
    "\n",
    "for turn in tqdm(raw_data[\"turns\"]):\n",
    "    for frame in turn:\n",
    "        if frame[\"author\"] == \"wizard\" or frame[\"text\"] in unique_utterances:\n",
    "            continue\n",
    "\n",
    "        unique_utterances.append(frame[\"text\"])\n",
    "\n",
    "        is_book = False\n",
    "        labels = []\n",
    "\n",
    "        for act in frame[\"labels\"][\"acts_without_refs\"]:\n",
    "            for arg in act[\"args\"]:\n",
    "                if arg[\"key\"] == \"intent\" and arg[\"val\"] == \"book\":\n",
    "                    is_book = True\n",
    "\n",
    "                if (\n",
    "                    arg[\"key\"] in entities\n",
    "                    and arg[\"val\"] is not None\n",
    "                    and frame[\"text\"].find(arg[\"val\"]) != -1\n",
    "                ):\n",
    "                    labels.append(\n",
    "                        EntityLabelObject(\n",
    "                            entity_name=arg[\"key\"],\n",
    "                            start_char_index=frame[\"text\"].find(arg[\"val\"]),\n",
    "                            end_char_index=frame[\"text\"].find(arg[\"val\"])\n",
    "                            + len(arg[\"val\"]),\n",
    "                        )\n",
    "                    )\n",
    "\n",
    "        if len(entities) > 0:\n",
    "            examples.append(\n",
    "                ExampleLabelObject(\n",
    "                    text=frame[\"text\"],\n",
    "                    intent_name=\"Book\" if is_book else \"Info\",\n",
    "                    entity_labels=labels,\n",
    "                )\n",
    "            )\n",
    "\n",
    "# add the examples in batch\n",
    "batch_size = 100\n",
    "for index in tqdm(range(0, len(examples), batch_size)):\n",
    "    client.examples.batch(\n",
    "        app_id=app_id,\n",
    "        version_id=AZURE_LUIS_PROJECT_VERSION,\n",
    "        example_label_object_array=examples[index : index + batch_size],\n",
    "    )"
   ]
  },
  {
   "cell_type": "markdown",
   "id": "e5f2753e-c955-4154-9de7-2f63c291b297",
   "metadata": {},
   "source": [
    "## Train the model to recognise intents and entities in examples"
   ]
  },
  {
   "cell_type": "code",
   "execution_count": 10,
   "id": "8a9974b7-ce86-4317-abed-398eec4ffa66",
   "metadata": {},
   "outputs": [
    {
     "name": "stdout",
     "output_type": "stream",
     "text": [
      "Waiting 10 seconds for training to complete...\n",
      "Waiting 10 seconds for training to complete...\n",
      "Waiting 10 seconds for training to complete...\n",
      "Waiting 10 seconds for training to complete...\n",
      "Waiting 10 seconds for training to complete...\n",
      "Waiting 10 seconds for training to complete...\n",
      "Waiting 10 seconds for training to complete...\n",
      "Waiting 10 seconds for training to complete...\n",
      "Waiting 10 seconds for training to complete...\n",
      "Waiting 10 seconds for training to complete...\n",
      "Waiting 10 seconds for training to complete...\n",
      "Waiting 10 seconds for training to complete...\n",
      "Waiting 10 seconds for training to complete...\n",
      "Waiting 10 seconds for training to complete...\n",
      "Waiting 10 seconds for training to complete...\n",
      "Waiting 10 seconds for training to complete...\n",
      "Waiting 10 seconds for training to complete...\n",
      "Waiting 10 seconds for training to complete...\n",
      "Waiting 10 seconds for training to complete...\n",
      "Waiting 10 seconds for training to complete...\n",
      "Waiting 10 seconds for training to complete...\n",
      "Waiting 10 seconds for training to complete...\n",
      "Waiting 10 seconds for training to complete...\n",
      "Waiting 10 seconds for training to complete...\n",
      "Waiting 10 seconds for training to complete...\n",
      "Waiting 10 seconds for training to complete...\n",
      "Waiting 10 seconds for training to complete...\n",
      "Waiting 10 seconds for training to complete...\n",
      "Waiting 10 seconds for training to complete...\n",
      "Waiting 10 seconds for training to complete...\n",
      "Waiting 10 seconds for training to complete...\n",
      "Waiting 10 seconds for training to complete...\n",
      "Waiting 10 seconds for training to complete...\n",
      "Waiting 10 seconds for training to complete...\n",
      "Waiting 10 seconds for training to complete...\n",
      "Waiting 10 seconds for training to complete...\n",
      "Waiting 10 seconds for training to complete...\n",
      "Waiting 10 seconds for training to complete...\n",
      "Waiting 10 seconds for training to complete...\n",
      "Waiting 10 seconds for training to complete...\n",
      "Waiting 10 seconds for training to complete...\n",
      "Waiting 10 seconds for training to complete...\n",
      "Waiting 10 seconds for training to complete...\n",
      "Waiting 10 seconds for training to complete...\n",
      "Waiting 10 seconds for training to complete...\n",
      "Waiting 10 seconds for training to complete...\n",
      "Waiting 10 seconds for training to complete...\n",
      "Waiting 10 seconds for training to complete...\n",
      "Waiting 10 seconds for training to complete...\n",
      "Waiting 10 seconds for training to complete...\n",
      "Waiting 10 seconds for training to complete...\n",
      "Waiting 10 seconds for training to complete...\n",
      "Waiting 10 seconds for training to complete...\n",
      "Waiting 10 seconds for training to complete...\n",
      "Waiting 10 seconds for training to complete...\n",
      "Waiting 10 seconds for training to complete...\n",
      "Waiting 10 seconds for training to complete...\n",
      "Waiting 10 seconds for training to complete...\n",
      "Waiting 10 seconds for training to complete...\n",
      "Waiting 10 seconds for training to complete...\n",
      "Waiting 10 seconds for training to complete...\n",
      "Waiting 10 seconds for training to complete...\n",
      "Waiting 10 seconds for training to complete...\n",
      "Waiting 10 seconds for training to complete...\n",
      "Waiting 10 seconds for training to complete...\n",
      "Waiting 10 seconds for training to complete...\n",
      "Waiting 10 seconds for training to complete...\n",
      "Waiting 10 seconds for training to complete...\n",
      "Waiting 10 seconds for training to complete...\n",
      "Waiting 10 seconds for training to complete...\n",
      "Waiting 10 seconds for training to complete...\n",
      "Waiting 10 seconds for training to complete...\n",
      "Waiting 10 seconds for training to complete...\n",
      "Waiting 10 seconds for training to complete...\n",
      "Waiting 10 seconds for training to complete...\n",
      "Waiting 10 seconds for training to complete...\n",
      "Waiting 10 seconds for training to complete...\n",
      "Waiting 10 seconds for training to complete...\n",
      "Waiting 10 seconds for training to complete...\n",
      "Waiting 10 seconds for training to complete...\n",
      "Waiting 10 seconds for training to complete...\n",
      "Waiting 10 seconds for training to complete...\n",
      "Waiting 10 seconds for training to complete...\n",
      "Waiting 10 seconds for training to complete...\n",
      "Waiting 10 seconds for training to complete...\n",
      "Waiting 10 seconds for training to complete...\n",
      "Waiting 10 seconds for training to complete...\n",
      "Waiting 10 seconds for training to complete...\n",
      "Waiting 10 seconds for training to complete...\n",
      "Waiting 10 seconds for training to complete...\n",
      "Waiting 10 seconds for training to complete...\n",
      "Waiting 10 seconds for training to complete...\n",
      "Waiting 10 seconds for training to complete...\n",
      "Waiting 10 seconds for training to complete...\n",
      "Waiting 10 seconds for training to complete...\n",
      "Waiting 10 seconds for training to complete...\n",
      "Waiting 10 seconds for training to complete...\n",
      "Waiting 10 seconds for training to complete...\n",
      "Waiting 10 seconds for training to complete...\n",
      "Waiting 10 seconds for training to complete...\n",
      "Waiting 10 seconds for training to complete...\n",
      "Waiting 10 seconds for training to complete...\n",
      "Waiting 10 seconds for training to complete...\n",
      "Waiting 10 seconds for training to complete...\n",
      "Waiting 10 seconds for training to complete...\n",
      "Waiting 10 seconds for training to complete...\n",
      "Waiting 10 seconds for training to complete...\n",
      "Waiting 10 seconds for training to complete...\n",
      "Waiting 10 seconds for training to complete...\n",
      "Waiting 10 seconds for training to complete...\n",
      "Waiting 10 seconds for training to complete...\n",
      "Waiting 10 seconds for training to complete...\n",
      "Waiting 10 seconds for training to complete...\n",
      "Waiting 10 seconds for training to complete...\n",
      "Waiting 10 seconds for training to complete...\n",
      "Waiting 10 seconds for training to complete...\n",
      "Waiting 10 seconds for training to complete...\n",
      "Waiting 10 seconds for training to complete...\n",
      "Waiting 10 seconds for training to complete...\n",
      "Waiting 10 seconds for training to complete...\n",
      "Waiting 10 seconds for training to complete...\n",
      "Waiting 10 seconds for training to complete...\n",
      "Waiting 10 seconds for training to complete...\n",
      "Waiting 10 seconds for training to complete...\n",
      "Waiting 10 seconds for training to complete...\n",
      "Waiting 10 seconds for training to complete...\n",
      "Waiting 10 seconds for training to complete...\n",
      "Waiting 10 seconds for training to complete...\n",
      "Waiting 10 seconds for training to complete...\n",
      "Waiting 10 seconds for training to complete...\n",
      "Waiting 10 seconds for training to complete...\n",
      "Waiting 10 seconds for training to complete...\n",
      "Waiting 10 seconds for training to complete...\n",
      "Waiting 10 seconds for training to complete...\n",
      "trained\n"
     ]
    }
   ],
   "source": [
    "\n",
    "client.train.train_version(app_id=app_id, version_id=AZURE_LUIS_PROJECT_VERSION)\n",
    "waiting = True\n",
    "while waiting:\n",
    "    info = client.train.get_status(app_id=app_id, version_id=AZURE_LUIS_PROJECT_VERSION)\n",
    "\n",
    "    # get_status returns a list of training statuses, one for each model. Loop through them and make sure all are done.\n",
    "    waiting = any(\n",
    "        map(\n",
    "            lambda x: \"Queued\" == x.details.status or \"InProgress\" == x.details.status,\n",
    "            info,\n",
    "        )\n",
    "    )\n",
    "    if waiting:\n",
    "        print(\"Waiting 10 seconds for training to complete...\")\n",
    "        time.sleep(10)\n",
    "    else:\n",
    "        print(\"trained\")\n",
    "        waiting = False"
   ]
  },
  {
   "cell_type": "code",
   "execution_count": 12,
   "id": "3789f1b5-90fb-4738-a788-26e5da5c33c0",
   "metadata": {},
   "outputs": [],
   "source": [
    "from azure.cognitiveservices.language.luis.authoring import LUISAuthoringClient\n",
    "from azure.cognitiveservices.language.luis.authoring.models import ApplicationCreateObject\n",
    "from azure.cognitiveservices.language.luis.runtime import LUISRuntimeClient\n",
    "from msrest.authentication import CognitiveServicesCredentials"
   ]
  },
  {
   "cell_type": "code",
   "execution_count": 11,
   "id": "3942b0fc-fb47-49a4-b6a8-06a6348cc0c2",
   "metadata": {},
   "outputs": [],
   "source": [
    "# from azure.cognitiveservices.language.luis.runtime import LUISRuntimeClient\n",
    "\n",
    "AZURE_LUIS_ENDPOINT = os.getenv(\"AZURE_LUIS_ENDPOINT\")\n",
    "AZURE_LUIS_KEY = os.getenv(\"AZURE_LUIS_KEY\")\n",
    "\n",
    "\n",
    "runtimeCredentials = CognitiveServicesCredentials(AZURE_LUIS_PRED_KEY)\n",
    "clientRuntime = LUISRuntimeClient(endpoint=AZURE_LUIS_PRED_ENDPOINT, credentials=runtimeCredentials)"
   ]
  },
  {
   "cell_type": "code",
   "execution_count": null,
   "id": "4204064d",
   "metadata": {},
   "outputs": [
    {
     "data": {
      "text/plain": [
       "<azure.cognitiveservices.language.luis.runtime.luis_runtime_client.LUISRuntimeClient at 0x267445cf520>"
      ]
     },
     "execution_count": 16,
     "metadata": {},
     "output_type": "execute_result"
    }
   ],
   "source": [
    "clientRuntime"
   ]
  },
  {
   "cell_type": "markdown",
   "id": "2e16a19c-1148-433d-8f75-fe6d8f87671d",
   "metadata": {},
   "source": [
    "## Test the model"
   ]
  },
  {
   "cell_type": "code",
   "execution_count": null,
   "id": "4ab05110",
   "metadata": {},
   "outputs": [],
   "source": [
    "#Copy this URL into the navigator and press enter\n",
    "\n",
    "https://botforflyme.cognitiveservices.azure.com/luis/prediction/v3.0/apps/099431fb-d90d-44b6-a5cf-82a9d8f804e7/slots/production/predict?verbose=true&show-all-intents=true&log=true&subscription-key=93d125472bfd46c5ae0e599fcb8207c8&query=\"I want to book a trip from Paris to London for less than $100. I will leave on the first of December 2022 and come back on the 17th of january 2023.\""
   ]
  }
 ],
 "metadata": {
  "kernelspec": {
   "display_name": "Python 3.10.8 64-bit",
   "language": "python",
   "name": "python3"
  },
  "language_info": {
   "codemirror_mode": {
    "name": "ipython",
    "version": 3
   },
   "file_extension": ".py",
   "mimetype": "text/x-python",
   "name": "python",
   "nbconvert_exporter": "python",
   "pygments_lexer": "ipython3",
   "version": "3.10.8"
  },
  "vscode": {
   "interpreter": {
    "hash": "369f2c481f4da34e4445cda3fffd2e751bd1c4d706f27375911949ba6bb62e1c"
   }
  }
 },
 "nbformat": 4,
 "nbformat_minor": 5
}
